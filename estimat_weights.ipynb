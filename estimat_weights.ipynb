{
 "cells": [
  {
   "cell_type": "code",
   "execution_count": null,
   "metadata": {},
   "outputs": [],
   "source": [
    "import numpy as np\n",
    "import pandas as pd\n",
    "from sklearn.linear_model import LinearRegression\n",
    "from sklearn.metrics import r2_score\n",
    "from tqdm import tqdm\n",
    "\n",
    "data = pd.read_parquet(\"train.parquet\")\n",
    "\n",
    "num_stocks = data[\"stock_id\"].nunique()\n",
    "num_dates = data[\"date_id\"].nunique()\n",
    "num_updates = data[\"seconds_in_bucket\"].nunique()\n",
    "\n",
    "print(f\"# stocks         : {num_stocks}\")\n",
    "print(f\"# dates          : {num_dates}\")\n",
    "print(f\"# updates per day: {num_updates}\")\n",
    "\n",
    "stock_returns = np.zeros((num_stocks, num_dates, num_updates))\n",
    "index_returns = np.zeros((num_stocks, num_dates, num_updates))\n",
    "\n",
    "for (stock_id, date_id), frame in tqdm(data.groupby([\"stock_id\", \"date_id\"])):\n",
    "    frame[\"stock_return\"] = ((frame[\"wap\"] / frame[\"wap\"].shift(6)).shift(-6) - 1) * 10_000\n",
    "    frame[\"index_return\"] = frame[\"stock_return\"] - frame[\"target\"]\n",
    "\n",
    "    stock_returns[stock_id, date_id] = frame[\"stock_return\"].values\n",
    "    index_returns[stock_id, date_id] = frame[\"index_return\"].values\n",
    "\n",
    "index_return = np.mean(index_returns, axis=0)\n",
    "\n",
    "lr = LinearRegression()\n",
    "y = index_return.reshape(-1)\n",
    "X = stock_returns.reshape((num_stocks, -1)).T\n",
    "\n",
    "mask = ~((np.isnan(y) | np.isnan(X).any(axis=1)))\n",
    "X, y = X[mask], y[mask]\n",
    "\n",
    "lr.fit(X, y)\n",
    "\n",
    "print(\" Fit \".center(80, \">\"))\n",
    "print(\"Coef:\", lr.coef_)\n",
    "print(\"Intercept:\", lr.intercept_)\n",
    "print(\"R2:\", r2_score(y, lr.predict(X)))\n",
    "\n",
    "lr.coef_ = lr.coef_.round(3)\n",
    "lr.intercept_ = 0.0\n",
    "print(\" Round with 3 digits \".center(80, \">\"))\n",
    "print(\"Coef:\", lr.coef_)\n",
    "print(\"Sum of Coef:\", lr.coef_.sum())\n",
    "print(\"R2:\", r2_score(y, lr.predict(X)))"
   ]
  }
 ],
 "metadata": {
  "language_info": {
   "name": "python"
  }
 },
 "nbformat": 4,
 "nbformat_minor": 2
}
